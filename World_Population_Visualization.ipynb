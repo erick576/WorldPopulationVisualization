{
 "cells": [
  {
   "cell_type": "code",
   "execution_count": 1,
   "metadata": {},
   "outputs": [],
   "source": [
    "import re\n",
    "import requests\n",
    "import pandas as pd\n",
    "import seaborn as sns\n",
    "from bs4 import BeautifulSoup\n",
    "from matplotlib import pyplot as plt"
   ]
  },
  {
   "cell_type": "code",
   "execution_count": 2,
   "metadata": {},
   "outputs": [],
   "source": [
    "# Create a request to get the world population for every country"
   ]
  },
  {
   "cell_type": "code",
   "execution_count": 3,
   "metadata": {},
   "outputs": [],
   "source": [
    "webpage_response = requests.get('https://www.worldometers.info/world-population/population-by-country/')"
   ]
  },
  {
   "cell_type": "code",
   "execution_count": 4,
   "metadata": {},
   "outputs": [],
   "source": [
    "webpage = webpage_response.content"
   ]
  },
  {
   "cell_type": "code",
   "execution_count": 5,
   "metadata": {},
   "outputs": [],
   "source": [
    "soup = BeautifulSoup(webpage, \"html.parser\")"
   ]
  },
  {
   "cell_type": "code",
   "execution_count": 6,
   "metadata": {},
   "outputs": [],
   "source": [
    "# Grab the Headers"
   ]
  },
  {
   "cell_type": "code",
   "execution_count": 7,
   "metadata": {},
   "outputs": [
    {
     "name": "stdout",
     "output_type": "stream",
     "text": [
      "['#', 'Country (or dependency)', 'Population (2020)', 'Yearly Change', 'Net Change', 'Density (P/Km²)']\n"
     ]
    }
   ],
   "source": [
    "# Grab HTML Portion of Columns\n",
    "population_table = soup.find(\"table\", attrs={'id':'example2'})\n",
    "population_table_data = population_table.thead.find_all('th')  \n",
    "\n",
    "# Get all the headings of Lists\n",
    "Headers = []\n",
    "\n",
    "for x in range(6):\n",
    "      #Grab the titles for each column\n",
    "      Headers.append(population_table_data[x].text)\n",
    "        \n",
    "print(Headers)"
   ]
  },
  {
   "cell_type": "code",
   "execution_count": 8,
   "metadata": {},
   "outputs": [],
   "source": [
    "# Grab Data for Column 1"
   ]
  },
  {
   "cell_type": "code",
   "execution_count": 9,
   "metadata": {},
   "outputs": [
    {
     "name": "stdout",
     "output_type": "stream",
     "text": [
      "[1, 2, 3, 4, 5, 6, 7, 8, 9, 10, 11, 12, 13, 14, 15, 16, 17, 18, 19, 20, 21, 22, 23, 24, 25, 26, 27, 28, 29, 30, 31, 32, 33, 34, 35, 36, 37, 38, 39, 40, 41, 42, 43, 44, 45, 46, 47, 48, 49, 50, 51, 52, 53, 54, 55, 56, 57, 58, 59, 60, 61, 62, 63, 64, 65, 66, 67, 68, 69, 70, 71, 72, 73, 74, 75, 76, 77, 78, 79, 80, 81, 82, 83, 84, 85, 86, 87, 88, 89, 90, 91, 92, 93, 94, 95, 96, 97, 98, 99, 100, 101, 102, 103, 104, 105, 106, 107, 108, 109, 110, 111, 112, 113, 114, 115, 116, 117, 118, 119, 120, 121, 122, 123, 124, 125, 126, 127, 128, 129, 130, 131, 132, 133, 134, 135, 136, 137, 138, 139, 140, 141, 142, 143, 144, 145, 146, 147, 148, 149, 150, 151, 152, 153, 154, 155, 156, 157, 158, 159, 160, 161, 162, 163, 164, 165, 166, 167, 168, 169, 170, 171, 172, 173, 174, 175, 176, 177, 178, 179, 180, 181, 182, 183, 184, 185, 186, 187, 188, 189, 190, 191, 192, 193, 194, 195, 196, 197, 198, 199, 200, 201, 202, 203, 204, 205, 206, 207, 208, 209, 210, 211, 212, 213, 214, 215, 216, 217, 218, 219, 220, 221, 222, 223, 224, 225, 226, 227, 228, 229, 230, 231, 232, 233, 234, 235]\n"
     ]
    }
   ],
   "source": [
    "# Grab HTML Portion of Column 1\n",
    "number_table_data = population_table.tbody.find_all('td')  \n",
    "\n",
    "# Get all Number Values\n",
    "Number = []\n",
    "\n",
    "for x in range(0, len(number_table_data), 12):\n",
    "      #Grab the Number for each Country\n",
    "      Number.append(int(re.sub(r',', '', number_table_data[x].text)))\n",
    "        \n",
    "print(Number)"
   ]
  },
  {
   "cell_type": "code",
   "execution_count": 10,
   "metadata": {},
   "outputs": [],
   "source": [
    "# Grab Data for Column 2"
   ]
  },
  {
   "cell_type": "code",
   "execution_count": 11,
   "metadata": {},
   "outputs": [
    {
     "name": "stdout",
     "output_type": "stream",
     "text": [
      "['China', 'India', 'United States', 'Indonesia', 'Pakistan', 'Brazil', 'Nigeria', 'Bangladesh', 'Russia', 'Mexico', 'Japan', 'Ethiopia', 'Philippines', 'Egypt', 'Vietnam', 'DR Congo', 'Turkey', 'Iran', 'Germany', 'Thailand', 'United Kingdom', 'France', 'Italy', 'Tanzania', 'South Africa', 'Myanmar', 'Kenya', 'South Korea', 'Colombia', 'Spain', 'Uganda', 'Argentina', 'Algeria', 'Sudan', 'Ukraine', 'Iraq', 'Afghanistan', 'Poland', 'Canada', 'Morocco', 'Saudi Arabia', 'Uzbekistan', 'Peru', 'Angola', 'Malaysia', 'Mozambique', 'Ghana', 'Yemen', 'Nepal', 'Venezuela', 'Madagascar', 'Cameroon', \"Côte d'Ivoire\", 'North Korea', 'Australia', 'Niger', 'Taiwan', 'Sri Lanka', 'Burkina Faso', 'Mali', 'Romania', 'Malawi', 'Chile', 'Kazakhstan', 'Zambia', 'Guatemala', 'Ecuador', 'Syria', 'Netherlands', 'Senegal', 'Cambodia', 'Chad', 'Somalia', 'Zimbabwe', 'Guinea', 'Rwanda', 'Benin', 'Burundi', 'Tunisia', 'Bolivia', 'Belgium', 'Haiti', 'Cuba', 'South Sudan', 'Dominican Republic', 'Czech Republic (Czechia)', 'Greece', 'Jordan', 'Portugal', 'Azerbaijan', 'Sweden', 'Honduras', 'United Arab Emirates', 'Hungary', 'Tajikistan', 'Belarus', 'Austria', 'Papua New Guinea', 'Serbia', 'Israel', 'Switzerland', 'Togo', 'Sierra Leone', 'Hong Kong', 'Laos', 'Paraguay', 'Bulgaria', 'Libya', 'Lebanon', 'Nicaragua', 'Kyrgyzstan', 'El Salvador', 'Turkmenistan', 'Singapore', 'Denmark', 'Finland', 'Congo', 'Slovakia', 'Norway', 'Oman', 'State of Palestine', 'Costa Rica', 'Liberia', 'Ireland', 'Central African Republic', 'New Zealand', 'Mauritania', 'Panama', 'Kuwait', 'Croatia', 'Moldova', 'Georgia', 'Eritrea', 'Uruguay', 'Bosnia and Herzegovina', 'Mongolia', 'Armenia', 'Jamaica', 'Qatar', 'Albania', 'Puerto Rico', 'Lithuania', 'Namibia', 'Gambia', 'Botswana', 'Gabon', 'Lesotho', 'North Macedonia', 'Slovenia', 'Guinea-Bissau', 'Latvia', 'Bahrain', 'Equatorial Guinea', 'Trinidad and Tobago', 'Estonia', 'Timor-Leste', 'Mauritius', 'Cyprus', 'Eswatini', 'Djibouti', 'Fiji', 'Réunion', 'Comoros', 'Guyana', 'Bhutan', 'Solomon Islands', 'Macao', 'Montenegro', 'Luxembourg', 'Western Sahara', 'Suriname', 'Cabo Verde', 'Maldives', 'Malta', 'Brunei ', 'Guadeloupe', 'Belize', 'Bahamas', 'Martinique', 'Iceland', 'Vanuatu', 'French Guiana', 'Barbados', 'New Caledonia', 'French Polynesia', 'Mayotte', 'Sao Tome & Principe', 'Samoa', 'Saint Lucia', 'Channel Islands', 'Guam', 'Curaçao', 'Kiribati', 'Micronesia', 'Grenada', 'St. Vincent & Grenadines', 'Aruba', 'Tonga', 'U.S. Virgin Islands', 'Seychelles', 'Antigua and Barbuda', 'Isle of Man', 'Andorra', 'Dominica', 'Cayman Islands', 'Bermuda', 'Marshall Islands', 'Northern Mariana Islands', 'Greenland', 'American Samoa', 'Saint Kitts & Nevis', 'Faeroe Islands', 'Sint Maarten', 'Monaco', 'Turks and Caicos', 'Saint Martin', 'Liechtenstein', 'San Marino', 'Gibraltar', 'British Virgin Islands', 'Caribbean Netherlands', 'Palau', 'Cook Islands', 'Anguilla', 'Tuvalu', 'Wallis & Futuna', 'Nauru', 'Saint Barthelemy', 'Saint Helena', 'Saint Pierre & Miquelon', 'Montserrat', 'Falkland Islands', 'Niue', 'Tokelau', 'Holy See']\n"
     ]
    }
   ],
   "source": [
    "# Grab HTML Portion of Column 2\n",
    "country_table_data = population_table.tbody.find_all('td')  \n",
    "\n",
    "# Get all Country Names\n",
    "Country = []\n",
    "\n",
    "for x in range(1, len(country_table_data), 12):\n",
    "      #Grab the Name for each Country\n",
    "      Country.append(country_table_data[x].text)\n",
    "        \n",
    "print(Country)"
   ]
  },
  {
   "cell_type": "code",
   "execution_count": 12,
   "metadata": {},
   "outputs": [],
   "source": [
    "# Grab Data for Column 3"
   ]
  },
  {
   "cell_type": "code",
   "execution_count": 13,
   "metadata": {},
   "outputs": [
    {
     "name": "stdout",
     "output_type": "stream",
     "text": [
      "[1439323776, 1380004385, 331002651, 273523615, 220892340, 212559417, 206139589, 164689383, 145934462, 128932753, 126476461, 114963588, 109581078, 102334404, 97338579, 89561403, 84339067, 83992949, 83783942, 69799978, 67886011, 65273511, 60461826, 59734218, 59308690, 54409800, 53771296, 51269185, 50882891, 46754778, 45741007, 45195774, 43851044, 43849260, 43733762, 40222493, 38928346, 37846611, 37742154, 36910560, 34813871, 33469203, 32971854, 32866272, 32365999, 31255435, 31072940, 29825964, 29136808, 28435940, 27691018, 26545863, 26378274, 25778816, 25499884, 24206644, 23816775, 21413249, 20903273, 20250833, 19237691, 19129952, 19116201, 18776707, 18383955, 17915568, 17643054, 17500658, 17134872, 16743927, 16718965, 16425864, 15893222, 14862924, 13132795, 12952218, 12123200, 11890784, 11818619, 11673021, 11589623, 11402528, 11326616, 11193725, 10847910, 10708981, 10423054, 10203134, 10196709, 10139177, 10099265, 9904607, 9890402, 9660351, 9537645, 9449323, 9006398, 8947024, 8737371, 8655535, 8654622, 8278724, 7976983, 7496981, 7275560, 7132538, 6948445, 6871292, 6825445, 6624554, 6524195, 6486205, 6031200, 5850342, 5792202, 5540720, 5518087, 5459642, 5421241, 5106626, 5101414, 5094118, 5057681, 4937786, 4829767, 4822233, 4649658, 4314767, 4270571, 4105267, 4033963, 3989167, 3546421, 3473730, 3280819, 3278290, 2963243, 2961167, 2881053, 2877797, 2860853, 2722289, 2540905, 2416668, 2351627, 2225734, 2142249, 2083374, 2078938, 1968001, 1886198, 1701575, 1402985, 1399488, 1326535, 1318445, 1271768, 1207359, 1160164, 988000, 896445, 895312, 869601, 786552, 771608, 686884, 649335, 628066, 625978, 597339, 586632, 555987, 540544, 441543, 437479, 400124, 397628, 393244, 375265, 341243, 307145, 298682, 287375, 285498, 280908, 272815, 219159, 198414, 183627, 173863, 168775, 164093, 119449, 115023, 112523, 110940, 106766, 105695, 104425, 98347, 97929, 85033, 77265, 71986, 65722, 62278, 59190, 57559, 56770, 55191, 53199, 48863, 42876, 39242, 38717, 38666, 38128, 33931, 33691, 30231, 26223, 18094, 17564, 15003, 11792, 11239, 10824, 9877, 6077, 5794, 4992, 3480, 1626, 1357, 801]\n"
     ]
    }
   ],
   "source": [
    "# Grab HTML Portion of Column 3\n",
    "population_value_table_data = population_table.tbody.find_all('td')  \n",
    "\n",
    "# Get all Population Values\n",
    "Population = []\n",
    "\n",
    "for x in range(2, len(population_value_table_data), 12):\n",
    "      #Grab the Population for each Country\n",
    "      Population.append(int(re.sub(r',', '', population_value_table_data[x].text)))\n",
    "        \n",
    "print(Population)"
   ]
  },
  {
   "cell_type": "code",
   "execution_count": 14,
   "metadata": {},
   "outputs": [],
   "source": [
    "# Grab Data for Column 4"
   ]
  },
  {
   "cell_type": "code",
   "execution_count": 15,
   "metadata": {},
   "outputs": [
    {
     "name": "stdout",
     "output_type": "stream",
     "text": [
      "[0.39, 0.99, 0.59, 1.07, 2.0, 0.72, 2.58, 1.01, 0.04, 1.06, -0.3, 2.57, 1.35, 1.94, 0.91, 3.19, 1.09, 1.3, 0.32, 0.25, 0.53, 0.22, -0.15, 2.98, 1.28, 0.67, 2.28, 0.09, 1.08, 0.04, 3.32, 0.93, 1.85, 2.42, -0.59, 2.32, 2.33, -0.11, 0.89, 1.2, 1.59, 1.48, 1.42, 3.27, 1.3, 2.93, 2.15, 2.28, 1.85, -0.28, 2.68, 2.59, 2.57, 0.44, 1.18, 3.84, 0.18, 0.42, 2.86, 3.02, -0.66, 2.69, 0.87, 1.21, 2.93, 1.9, 1.55, 2.52, 0.22, 2.75, 1.41, 3.0, 2.92, 1.48, 2.83, 2.58, 2.73, 3.12, 1.06, 1.39, 0.44, 1.24, -0.06, 1.19, 1.01, 0.18, -0.48, 1.0, -0.29, 0.91, 0.63, 1.63, 1.23, -0.25, 2.32, -0.03, 0.57, 1.95, -0.4, 1.6, 0.74, 2.43, 2.1, 0.82, 1.48, 1.25, -0.74, 1.38, -0.44, 1.21, 1.69, 0.51, 1.5, 0.79, 0.35, 0.15, 2.56, 0.05, 0.79, 2.65, 2.41, 0.92, 2.44, 1.13, 1.78, 0.82, 2.74, 1.61, 1.51, -0.61, -0.23, -0.19, 1.41, 0.35, -0.61, 1.65, 0.19, 0.44, 1.73, -0.11, -2.47, -1.35, 1.86, 2.94, 2.08, 2.45, 0.8, 0.0, 0.01, 2.45, -1.08, 3.68, 3.47, 0.32, 0.07, 1.96, 0.17, 0.73, 1.05, 1.48, 0.73, 0.72, 2.2, 0.48, 1.12, 2.55, 1.39, 0.01, 1.66, 2.55, 0.9, 1.1, 1.81, 0.27, 0.97, 0.02, 1.86, 0.97, -0.08, 0.65, 2.42, 2.7, 0.12, 0.97, 0.58, 2.5, 1.91, 0.67, 0.46, 0.93, 0.89, 0.41, 1.57, 1.06, 0.46, 0.32, 0.43, 1.15, -0.15, 0.62, 0.84, 0.53, 0.16, 0.25, 1.19, -0.36, 0.68, 0.6, 0.17, -0.22, 0.71, 0.38, 1.15, 0.71, 1.38, 1.75, 0.29, 0.21, -0.03, 0.67, 0.94, 0.48, 0.09, 0.9, 1.25, -1.69, 0.63, 0.3, 0.3, -0.48, 0.06, 3.05, 0.68, 1.27, 0.25]\n"
     ]
    }
   ],
   "source": [
    "# Grab HTML Portion of Column 4\n",
    "Yearly_Change_table_data = population_table.tbody.find_all('td')  \n",
    "\n",
    "# Get all Yearly Change Values\n",
    "Yearly_Change = []\n",
    "\n",
    "for x in range(3, len(Yearly_Change_table_data), 12):\n",
    "      #Grab the Yearly Change for each Country\n",
    "      Yearly_Change.append(float(re.sub(r'%', '', Yearly_Change_table_data[x].text)))\n",
    "        \n",
    "print(Yearly_Change)"
   ]
  },
  {
   "cell_type": "code",
   "execution_count": 16,
   "metadata": {},
   "outputs": [],
   "source": [
    "# Grab Data for Column 5"
   ]
  },
  {
   "cell_type": "code",
   "execution_count": 17,
   "metadata": {},
   "outputs": [
    {
     "name": "stdout",
     "output_type": "stream",
     "text": [
      "[5540090, 13586631, 1937734, 2898047, 4327022, 1509890, 5175990, 1643222, 62206, 1357224, -383840, 2884858, 1464463, 1946331, 876473, 2770836, 909452, 1079043, 266897, 174396, 355839, 143783, -88249, 1728755, 750420, 364380, 1197323, 43877, 543448, 18002, 1471413, 415097, 797990, 1036022, -259876, 912710, 886592, -41157, 331107, 438791, 545343, 487487, 461401, 1040977, 416222, 889399, 655084, 664042, 528098, -79889, 721711, 669483, 661730, 112655, 296686, 895929, 42899, 89516, 581895, 592802, -126866, 501205, 164163, 225280, 522925, 334096, 269392, 430523, 37742, 447563, 232423, 478988, 450317, 217456, 361549, 325268, 322049, 360204, 123900, 159921, 50295, 139451, -6867, 131612, 108952, 19772, -50401, 101440, -29478, 91459, 62886, 158490, 119873, -24328, 216627, -3088, 51296, 170915, -34864, 136158, 63257, 196358, 163768, 60827, 106105, 87902, -51674, 93840, -30268, 79052, 108345, 32652, 89111, 46005, 20326, 8564, 137579, 2629, 42384, 131640, 119994, 46557, 120307, 55291, 84582, 39170, 123962, 68328, 63488, -25037, -9300, -7598, 49304, 11996, -20181, 53123, 5512, 12888, 48986, -3120, -72555, -37338, 46375, 68962, 47930, 53155, 16981, -85, 284, 47079, -20545, 60403, 46999, 4515, 887, 25326, 2100, 8784, 12034, 14440, 6492, 6385, 18715, 3786, 8516, 17061, 8890, 79, 10249, 14876, 5260, 6052, 9591, 1171, 4194, 68, 7275, 3762, -289, 2212, 7263, 7850, 350, 2748, 1621, 6665, 4103, 1317, 837, 1604, 1481, 669, 1843, 1208, 520, 351, 452, 1201, -153, 608, 811, 449, 123, 178, 774, -228, 399, 343, 98, -121, 376, 185, 488, 278, 526, 664, 109, 71, -10, 201, 244, 86, 16, 134, 146, -193, 68, 30, 18, -28, 3, 103, 11, 17, 2]\n"
     ]
    }
   ],
   "source": [
    "# Grab HTML Portion of Column 5\n",
    "Net_Change_table_data = population_table.tbody.find_all('td')  \n",
    "\n",
    "# Get all Net Change Values\n",
    "Net_Change = []\n",
    "\n",
    "for x in range(4, len(Net_Change_table_data), 12):\n",
    "      #Grab the Net Change for each Country\n",
    "      Net_Change.append(int(re.sub(r',', '', Net_Change_table_data[x].text)))\n",
    "        \n",
    "print(Net_Change)"
   ]
  },
  {
   "cell_type": "code",
   "execution_count": 18,
   "metadata": {},
   "outputs": [],
   "source": [
    "# Grab Data for Column 6"
   ]
  },
  {
   "cell_type": "code",
   "execution_count": 19,
   "metadata": {},
   "outputs": [
    {
     "name": "stdout",
     "output_type": "stream",
     "text": [
      "[153, 464, 36, 151, 287, 25, 226, 1265, 9, 66, 347, 115, 368, 103, 314, 40, 110, 52, 240, 137, 281, 119, 206, 67, 49, 83, 94, 527, 46, 94, 229, 17, 18, 25, 75, 93, 60, 124, 4, 83, 16, 79, 26, 26, 99, 40, 137, 56, 203, 32, 48, 56, 83, 214, 3, 19, 673, 341, 76, 17, 84, 203, 26, 7, 25, 167, 71, 95, 508, 87, 95, 13, 25, 38, 53, 525, 108, 463, 76, 11, 383, 414, 106, 18, 225, 139, 81, 115, 111, 123, 25, 89, 118, 107, 68, 47, 109, 20, 100, 400, 219, 152, 111, 7140, 32, 18, 64, 4, 667, 55, 34, 313, 13, 8358, 137, 18, 16, 114, 15, 16, 847, 100, 53, 72, 8, 18, 5, 58, 240, 73, 123, 57, 35, 20, 64, 2, 104, 273, 248, 105, 323, 43, 3, 239, 4, 9, 71, 83, 103, 70, 30, 2239, 50, 273, 31, 89, 626, 131, 67, 43, 49, 358, 467, 4, 20, 25, 21645, 47, 242, 2, 4, 138, 1802, 1380, 83, 237, 17, 39, 354, 3, 25, 4, 668, 16, 77, 728, 228, 70, 301, 915, 313, 370, 147, 164, 331, 284, 593, 147, 298, 214, 223, 149, 164, 96, 274, 1246, 329, 125, 0, 276, 205, 35, 1261, 26337, 41, 730, 238, 566, 3369, 202, 80, 39, 73, 167, 393, 80, 541, 470, 16, 25, 50, 0, 6, 136, 2003]\n"
     ]
    }
   ],
   "source": [
    "# Grab HTML Portion of Column 6\n",
    "Density_table_data = population_table.tbody.find_all('td')  \n",
    "\n",
    "# Get all Population Density Values\n",
    "Density = []\n",
    "\n",
    "for x in range(5, len(Density_table_data), 12):\n",
    "      #Grab the Density for each Country\n",
    "      Density.append(int(re.sub(r',', '', Density_table_data[x].text)))\n",
    "        \n",
    "print(Density)"
   ]
  },
  {
   "cell_type": "code",
   "execution_count": 20,
   "metadata": {},
   "outputs": [],
   "source": [
    "# Create a DataFrame to Store All this Information"
   ]
  },
  {
   "cell_type": "code",
   "execution_count": 21,
   "metadata": {},
   "outputs": [],
   "source": [
    "df = pd.DataFrame({\n",
    "    Headers[0]: Number,\n",
    "    Headers[1]: Country,\n",
    "    Headers[2]: Population,\n",
    "    Headers[3]: Yearly_Change,\n",
    "    Headers[4]: Net_Change,\n",
    "    Headers[5]: Density\n",
    "})"
   ]
  },
  {
   "cell_type": "code",
   "execution_count": 22,
   "metadata": {},
   "outputs": [
    {
     "name": "stdout",
     "output_type": "stream",
     "text": [
      "       # Country (or dependency)  Population (2020)  Yearly Change  \\\n",
      "0      1                   China         1439323776           0.39   \n",
      "1      2                   India         1380004385           0.99   \n",
      "2      3           United States          331002651           0.59   \n",
      "3      4               Indonesia          273523615           1.07   \n",
      "4      5                Pakistan          220892340           2.00   \n",
      "..   ...                     ...                ...            ...   \n",
      "230  231              Montserrat               4992           0.06   \n",
      "231  232        Falkland Islands               3480           3.05   \n",
      "232  233                    Niue               1626           0.68   \n",
      "233  234                 Tokelau               1357           1.27   \n",
      "234  235                Holy See                801           0.25   \n",
      "\n",
      "     Net Change  Density (P/Km²)  \n",
      "0       5540090              153  \n",
      "1      13586631              464  \n",
      "2       1937734               36  \n",
      "3       2898047              151  \n",
      "4       4327022              287  \n",
      "..          ...              ...  \n",
      "230           3               50  \n",
      "231         103                0  \n",
      "232          11                6  \n",
      "233          17              136  \n",
      "234           2             2003  \n",
      "\n",
      "[235 rows x 6 columns]\n"
     ]
    }
   ],
   "source": [
    "# View the DataFrame\n",
    "print(df)"
   ]
  },
  {
   "cell_type": "code",
   "execution_count": 23,
   "metadata": {},
   "outputs": [],
   "source": [
    "# Export the Information to CSV for Future Use\n",
    "df.to_csv('population.csv')"
   ]
  },
  {
   "cell_type": "code",
   "execution_count": null,
   "metadata": {},
   "outputs": [],
   "source": []
  }
 ],
 "metadata": {
  "kernelspec": {
   "display_name": "Python 3",
   "language": "python",
   "name": "python3"
  },
  "language_info": {
   "codemirror_mode": {
    "name": "ipython",
    "version": 3
   },
   "file_extension": ".py",
   "mimetype": "text/x-python",
   "name": "python",
   "nbconvert_exporter": "python",
   "pygments_lexer": "ipython3",
   "version": "3.7.6"
  }
 },
 "nbformat": 4,
 "nbformat_minor": 4
}
